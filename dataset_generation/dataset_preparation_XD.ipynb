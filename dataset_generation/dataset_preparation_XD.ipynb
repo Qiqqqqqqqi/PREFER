{
 "cells": [
  {
   "cell_type": "code",
   "execution_count": 14,
   "id": "8005cda6",
   "metadata": {},
   "outputs": [],
   "source": [
    "import pandas as pd\n",
    "import math\n",
    "import numpy as np\n",
    "import matplotlib.pyplot as plt\n",
    "import warnings\n",
    "warnings.filterwarnings(\"ignore\")"
   ]
  },
  {
   "cell_type": "markdown",
   "id": "aa32f039",
   "metadata": {},
   "source": [
    "### Functions definition"
   ]
  },
  {
   "cell_type": "code",
   "execution_count": 5,
   "id": "4aa43b73",
   "metadata": {},
   "outputs": [],
   "source": [
    "# Convert latitude and longitude coordinates to plane coordinates\n",
    "def LatLon2XY(latitude, longitude):\n",
    "    a = 6378137.0\n",
    "    e2 = 0.0066943799013\n",
    "\n",
    "    # Convert latitude and longitude to radians\n",
    "    latitude2Rad = (math.pi / 180.0) * latitude\n",
    "\n",
    "    beltNo = int((longitude + 1.5) / 3.0)\n",
    "    L = beltNo * 3   # Calculate the central meridian\n",
    "    l0 = longitude - L \n",
    "    tsin = math.sin(latitude2Rad)\n",
    "    tcos = math.cos(latitude2Rad)\n",
    "    t = math.tan(latitude2Rad)\n",
    "    m = (math.pi / 180.0) * l0 * tcos\n",
    "    et2 = e2 * pow(tcos, 2)\n",
    "    et3 = e2 * pow(tsin, 2)\n",
    "    X = 111132.9558 * latitude - 16038.6496 * math.sin(2 * latitude2Rad) + 16.8607 * math.sin(\n",
    "        4 * latitude2Rad) - 0.0220 * math.sin(6 * latitude2Rad)\n",
    "    N = a / math.sqrt(1 - et3)\n",
    "\n",
    "    x = X + N * t * (0.5 * pow(m, 2) + (5.0 - pow(t, 2) + 9.0 * et2 + 4 * pow(et2, 2)) * pow(m, 4) / 24.0 + (\n",
    "    61.0 - 58.0 * pow(t, 2) + pow(t, 4)) * pow(m, 6) / 720.0)\n",
    "    y = 500000 + N * (m + (1.0 - pow(t, 2) + et2) * pow(m, 3) / 6.0 + (\n",
    "    5.0 - 18.0 * pow(t, 2) + pow(t, 4) + 14.0 * et2 - 58.0 * et2 * pow(t, 2)) * pow(m, 5) / 120.0)\n",
    "\n",
    "    return x, y"
   ]
  },
  {
   "cell_type": "code",
   "execution_count": 7,
   "id": "2265df44",
   "metadata": {},
   "outputs": [],
   "source": [
    "def get_data(x):\n",
    "    x = x[1:]\n",
    "    return x\n",
    "\n",
    "# map the original dataset to a planar coordinates system\n",
    "def dataprocess(filename, month):\n",
    "    df = pd.read_csv(filename)  # read dataset\n",
    "    df = df.drop(['order_time'],axis=1)\n",
    "    df = df.drop(['dispatch_time'],axis=1)\n",
    "    df = df.drop(['cancel_time'],axis=1)\n",
    "    df = df.dropna()\n",
    "    \n",
    "    # coordinates conversion\n",
    "    df['origin_XY']= df.apply(lambda row : LatLon2XY(row['origin_lat'], row['origin_lon']), axis = 1)\n",
    "    df['origin_X'] = df['origin_XY'].map(lambda x :x[0])\n",
    "    df['origin_Y'] = df['origin_XY'].map(lambda x :x[1])\n",
    "    df['destination_XY']= df.apply(lambda row : LatLon2XY(row['destination_lat'], row['destination_lon']), axis = 1)\n",
    "    df['destination_X'] = df['destination_XY'].map(lambda x :x[0])\n",
    "    df['destination_Y'] = df['destination_XY'].map(lambda x :x[1])\n",
    "    \n",
    "    df = df.drop(['origin_XY'],axis=1)\n",
    "    df = df.drop(['destination_XY'],axis=1)\n",
    "    df['origin_X'] =  df['origin_X'].apply(lambda x: '%.2f'%x)\n",
    "    df['origin_Y'] = df['origin_Y'].apply(lambda x: '%.2f'%x)\n",
    "    df['destination_X'] = df['destination_X'].apply(lambda x: '%.2f'%x)\n",
    "    df['destination_Y'] = df['destination_Y'].apply(lambda x: '%.2f'%x)\n",
    "    df['pickup_time'] = df['pickup_time'].astype('datetime64')\n",
    "    df['arrive_time'] = df['arrive_time'].astype('datetime64')\n",
    "    df['pickup_month'] = df['pickup_time'].dt.month\n",
    "    df['arrive_month'] = df['arrive_time'].dt.month\n",
    "        \n",
    "    df = df.drop(index = df[(df.pickup_month != month)].index.tolist())\n",
    "    df = df.drop(index = df[(df.arrive_month != month)].index.tolist())\n",
    "    \n",
    "    df['origin_X'] =  df['origin_X'].apply(lambda x: str(x))\n",
    "    df['destination_X'] = df['destination_X'].apply(lambda x: str(x))\n",
    "\n",
    "    df['origin_X'] =  df['origin_X'].apply(get_data)\n",
    "    df['destination_X'] = df['destination_X'].apply(get_data)\n",
    "    df['origin_X'] =  df['origin_X'].apply(lambda x: float(x))\n",
    "    df['destination_X'] = df['destination_X'].apply(lambda x: float(x))\n",
    "    \n",
    "    df_region = df[['pickup_time','arrive_time','origin_X','origin_Y','destination_X','destination_Y']]\n",
    "    \n",
    "    return df_region"
   ]
  },
  {
   "cell_type": "code",
   "execution_count": 8,
   "id": "cbd7c014",
   "metadata": {},
   "outputs": [],
   "source": [
    "# Divide the map in the planar coordinate system into 1km*1km grids\n",
    "def togird(df11, df12):\n",
    "    lon_min = min(min(df11['origin_X']),min(df11['destination_X']),min(df12['origin_X']),min(df12['destination_X']))\n",
    "    lon_max = max(max(df11['origin_X']),max(df11['destination_X']),max(df12['origin_X']),max(df12['destination_X']))\n",
    "    lon_range = float(lon_max) - float(lon_min)\n",
    "    \n",
    "    lat_min = min(min(df11['origin_Y']),min(df11['destination_Y']),min(df12['origin_Y']),min(df12['destination_Y']))\n",
    "    lat_max = max(max(df11['origin_Y']),max(df11['destination_Y']),max(df12['origin_Y']),max(df12['destination_Y']))\n",
    "    lat_range = float(lat_max) - float(lat_min)\n",
    "    \n",
    "    # get region x id\n",
    "    def X_to_region(x):\n",
    "        minimun = float(lon_min)\n",
    "        unit = 1000   #1km\n",
    "        x = float(x)\n",
    "        region = int(round(x - minimun,2)//unit)\n",
    "        return region\n",
    "    \n",
    "    # get region y id\n",
    "    def Y_to_region(x):\n",
    "        minimun = float(lat_min)\n",
    "        unit = 1000\n",
    "        x = float(x)\n",
    "        region = int(round(x - minimun,2)//unit)\n",
    "        return region\n",
    "    \n",
    "    df11['origin_X'] = df11['origin_X'].apply(X_to_region)\n",
    "    df11['origin_Y'] = df11['origin_Y'].apply(Y_to_region)\n",
    "    df11['destination_X'] = df11['destination_X'].apply(X_to_region)\n",
    "    df11['destination_Y'] = df11['destination_Y'].apply(Y_to_region)\n",
    "    \n",
    "    df12['origin_X'] = df12['origin_X'].apply(X_to_region)\n",
    "    df12['origin_Y'] = df12['origin_Y'].apply(Y_to_region)\n",
    "    df12['destination_X'] = df12['destination_X'].apply(X_to_region)\n",
    "    df12['destination_Y'] = df12['destination_Y'].apply(Y_to_region)\n",
    "    \n",
    "    return df11, df12"
   ]
  },
  {
   "cell_type": "code",
   "execution_count": 9,
   "id": "3db2491f",
   "metadata": {},
   "outputs": [],
   "source": [
    "# count the traffic flow data in each grid\n",
    "def gettf(df, state, bound):\n",
    "    if state == 'in':\n",
    "        flow = df[['arrive_time','destination_X','destination_Y']]\n",
    "        flow['arrive_time'] = flow['arrive_time'].astype('datetime64')\n",
    "        flow['day'] = flow['arrive_time'].dt.day\n",
    "        flow['hour'] = flow['arrive_time'].dt.hour\n",
    "        flow['minute'] = flow['arrive_time'].dt.minute\n",
    "    elif state == 'out':\n",
    "        flow = df[['pickup_time','origin_X','origin_Y']]\n",
    "        flow['pickup_time'] = flow['pickup_time'].astype('datetime64')\n",
    "        flow['day'] = flow['pickup_time'].dt.day\n",
    "        flow['hour'] = flow['pickup_time'].dt.hour\n",
    "        flow['minute'] = flow['pickup_time'].dt.minute\n",
    "    \n",
    "    # get region id\n",
    "    def get_regin_id(x,y):\n",
    "        x = int(x)\n",
    "        y = int(y)\n",
    "        id = bound*y + x\n",
    "        return id\n",
    "    \n",
    "    if state == 'in':\n",
    "        flow['region_id'] = flow.apply(lambda x: get_regin_id(x['destination_X'], x['destination_Y']), axis=1)\n",
    "    elif state == 'out':\n",
    "        flow['region_id'] = flow.apply(lambda x: get_regin_id(x['origin_X'], x['origin_Y']), axis=1)\n",
    "        \n",
    "    flow['flag'] = flow['minute']>=30\n",
    "    flow['flag'] = flow['flag'].astype(int)\n",
    "    \n",
    "    # get time id, count the traffic flow every 30 minutes.\n",
    "    def get_time_id(x,y,z):\n",
    "        points = 48\n",
    "        x = int(x)\n",
    "        y = int(y)\n",
    "        z = int(z)\n",
    "        ids = (x-1)*points + y*2 +z\n",
    "        return ids\n",
    "\n",
    "    flow['time_id'] = flow.apply(lambda x: get_time_id(x['day'], x['hour'], x['flag']), axis=1)\n",
    "    \n",
    "    df_tf = flow[['region_id','time_id']]\n",
    "    count = [1 for index in range(len(df_tf))]\n",
    "    df_tf['count'] = count\n",
    "    df_tf = df_tf.groupby(['region_id', 'time_id']).sum()\n",
    "    df_tf = df_tf.reset_index()\n",
    "    \n",
    "    def get_x(x):\n",
    "        x = int(x)\n",
    "        x = x%bound\n",
    "        return x\n",
    "    \n",
    "    def get_y(x):\n",
    "        x = int(x)\n",
    "        y = x//bound\n",
    "        return y\n",
    "    \n",
    "    df_tf['region_X'] = df_tf.apply(lambda x: get_x(x['region_id']), axis=1)\n",
    "    df_tf['region_Y'] = df_tf.apply(lambda x: get_y(x['region_id']), axis=1)\n",
    "    \n",
    "    return df_tf"
   ]
  },
  {
   "cell_type": "code",
   "execution_count": 10,
   "id": "9ce36947",
   "metadata": {},
   "outputs": [],
   "source": [
    "# transform the data into an array\n",
    "def generate_data(tf11_in, tf11_out, tf12_in, tf12_out, bound_x, bound_y):\n",
    "    '''\n",
    "    return: array XD, shape:(points_num,bound_x,bound_y,2)\n",
    "    '''\n",
    "    points11 = 1440\n",
    "    points12 = 1488\n",
    "    flow11 = np.zeros((points11,bound_x,bound_y,2))\n",
    "    flow12 = np.zeros((points12,bound_x,bound_y,2))\n",
    "    \n",
    "    for index,row in tf11_in.iterrows():\n",
    "        i = row['time_id']\n",
    "        x = row['region_X']\n",
    "        y = row['region_Y']\n",
    "        c = row['count']\n",
    "        flow11[i,x,y,0] = c\n",
    "        \n",
    "    for index,row in tf11_out.iterrows():\n",
    "        i = row['time_id']\n",
    "        x = row['region_X']\n",
    "        y = row['region_Y']\n",
    "        c = row['count']\n",
    "        flow11[i,x,y,1] = c\n",
    "    \n",
    "    for index,row in tf12_in.iterrows():\n",
    "        i = row['time_id']\n",
    "        x = row['region_X']\n",
    "        y = row['region_Y']\n",
    "        c = row['count']\n",
    "        flow12[i,x,y,0] = c\n",
    "    \n",
    "    for index,row in tf12_out.iterrows():\n",
    "        i = row['time_id']\n",
    "        x = row['region_X']\n",
    "        y = row['region_Y']\n",
    "        c = row['count']\n",
    "        flow12[i,x,y,1] = c\n",
    "    \n",
    "    XD = np.vstack((flow11,flow12))\n",
    "    return XD"
   ]
  },
  {
   "cell_type": "code",
   "execution_count": 24,
   "id": "f303b944",
   "metadata": {},
   "outputs": [],
   "source": [
    "# traffic flow visualization, to find the busy regions\n",
    "def visualization(arr, x, y):\n",
    "    flow = np.ones((y,x))\n",
    "    for i in range(x):\n",
    "        for j in range(y):\n",
    "            data = arr[:,i,j,:]\n",
    "            zero = not(np.any(data))\n",
    "            if zero == True:\n",
    "                flow[j,i] = 0\n",
    "    ax = plt.matshow(flow)\n",
    "    plt.colorbar(ax.colorbar, fraction=0.025)\n",
    "    plt.xlabel('x(lat)')\n",
    "    plt.ylabel('y(lon)')\n",
    "    plt.title(\"flow matrix\")\n",
    "    return flow"
   ]
  },
  {
   "cell_type": "code",
   "execution_count": 12,
   "id": "69973eee",
   "metadata": {},
   "outputs": [],
   "source": [
    "# Determine if the traffic flow in the area meets the conditions\n",
    "def T_or_F(samples):\n",
    "    day_num = 61\n",
    "    points = 48\n",
    "    max_bound = 15    #for a sub-network, the lower bound of the maximum traffic flow\n",
    "    zero_bound = 8000   #for a sub-network, the upper bound of the number of zero\n",
    "    flag = True\n",
    "    maximum = np.amax(samples[:,:,:])\n",
    "    \n",
    "    count = 0\n",
    "    for m in range(samples.shape[0]):\n",
    "        for n in range(samples.shape[1]):\n",
    "            if samples[m,n,0] == 0:\n",
    "                count+=1\n",
    "    \n",
    "    if maximum>= max_bound and count <= zero_bound:\n",
    "        flag = False\n",
    "    \n",
    "    return flag"
   ]
  },
  {
   "cell_type": "code",
   "execution_count": 32,
   "id": "8a8bcb34",
   "metadata": {},
   "outputs": [],
   "source": [
    "# Divide the traffic network into 3*3 sub-networks\n",
    "def partition(arr, step, dirt):\n",
    "    sub_num = 0\n",
    "    day_num = 61\n",
    "    points = 48\n",
    "    bound_x = arr.shape[1]\n",
    "    bound_y = arr.shape[2]\n",
    "    \n",
    "    for i in range(0,bound_x-2,step):\n",
    "        for j in range(0,bound_x-2,step):\n",
    "            flag = 0\n",
    "            times = 0\n",
    "            day_zero = True\n",
    "            night_zero = True\n",
    "            busy_zero = True\n",
    "            # if don't meet the conditions, expand the borders\n",
    "            while (day_zero == True and night_zero == True and busy_zero == True):\n",
    "                times += 1\n",
    "                # deal with the bound error\n",
    "                end_x = i+3*times\n",
    "                end_y = j+3*times\n",
    "                if end_x > bound_x or end_y > bound_y:\n",
    "                    flag = 1\n",
    "                    break\n",
    "            \n",
    "                data = arr[:,i:i+3*times,j:j+3*times,:]  #(2928,,,2)\n",
    "        \n",
    "                day_samples = np.zeros((1,3*times,3*times))\n",
    "                night_samples = np.zeros((1,3*times,3*times))\n",
    "                busy_samples = np.zeros((1,3*times,3*times))\n",
    "    \n",
    "                for nums in range(day_num):\n",
    "                    day_sample = data[points*nums+20:points*nums+32,:,:,0]\n",
    "                    night_sample = np.vstack((data[points*nums:points*nums+14,:,:,0], data[points*nums+40:points*nums+48,:,:,0]))\n",
    "                    busy_sample = np.vstack((data[points*nums+14:points*nums+20,:,:,0], data[points*nums+32:points*nums+40,:,:,0]))\n",
    "        \n",
    "                    day_samples = np.vstack((day_samples, day_sample))\n",
    "                    night_samples = np.vstack((night_samples, night_sample))\n",
    "                    busy_samples = np.vstack((busy_samples, busy_sample))\n",
    "    \n",
    "                day_samples = day_samples[1:,:,:]\n",
    "                night_samples = night_samples[1:,:,:]\n",
    "                busy_samples = busy_samples[1:,:,:]\n",
    "                \n",
    "                # determine if the traffic flow in the area meets the conditions, False means satisfing\n",
    "                day_zero, night_zero, busy_zero = T_or_F(day_samples),T_or_F(night_samples),T_or_F(busy_samples)\n",
    "            \n",
    "            if flag == 1:\n",
    "                continue\n",
    "            \n",
    "            array = np.zeros((day_num*points, 3, 3, 2))\n",
    "            \n",
    "            # get the number of grids in the recent sub-network\n",
    "            num = data.shape[1]\n",
    "            comb_num = num//3\n",
    "            \n",
    "            for m in range(3):\n",
    "                for n in range(3):\n",
    "                    a = data[:,comb_num*m:comb_num*(m+1),comb_num*n:comb_num*(n+1),:]\n",
    "                    a = a.sum(axis=1)\n",
    "                    a = a.sum(axis=1)\n",
    "                    array[:,m,n,:]=a\n",
    "                    \n",
    "            array_new = np.zeros((day_num*points, 9, 2))\n",
    "            for k in range(3):\n",
    "                array_new[:,k*3:(k+1)*3,:] = array[:,:,k,:]\n",
    "            \n",
    "            np.savez(dirt+\"\\\\part{}.npz\".format(sub_num), data = array_new)\n",
    "            sub_num += 1\n",
    "    return sub_num\n"
   ]
  },
  {
   "cell_type": "markdown",
   "id": "b1641d66",
   "metadata": {},
   "source": [
    "### dataset generation"
   ]
  },
  {
   "cell_type": "markdown",
   "id": "8cd97005",
   "metadata": {},
   "source": [
    "#### Hangzhou Xiangdao"
   ]
  },
  {
   "cell_type": "code",
   "execution_count": 34,
   "id": "9e40926b",
   "metadata": {},
   "outputs": [],
   "source": [
    "HZ_df11 = dataprocess('data_hangzhou_202111.csv', 11)\n",
    "HZ_df12 = dataprocess('data_hangzhou_202112.csv', 12)\n",
    "\n",
    "HZ_df11gird, HZ_df12gird = togird(HZ_df11, HZ_df12)\n",
    "HZ_max_X = max(max(HZ_df11gird['destination_X']),max(HZ_df11gird['origin_X']),max(HZ_df12gird['destination_X']),max(HZ_df12gird['origin_X']))\n",
    "HZ_max_Y = max(max(HZ_df11gird['destination_Y']),max(HZ_df11gird['origin_Y']),max(HZ_df12gird['destination_Y']),max(HZ_df12gird['origin_Y']))\n",
    "\n",
    "HZ_tf11_in = gettf(HZ_df11gird, 'in', HZ_max_X+1)\n",
    "HZ_tf11_out = gettf(HZ_df11gird, 'out', HZ_max_X+1)\n",
    "HZ_tf12_in = gettf(HZ_df12gird, 'in', HZ_max_X+1)\n",
    "HZ_tf12_out = gettf(HZ_df12gird, 'out', HZ_max_X+1)\n",
    "\n",
    "HZXD = generate_data(HZ_tf11_in, HZ_tf11_out, HZ_tf12_in, HZ_tf12_out, HZ_max_X+1, HZ_max_Y+1)"
   ]
  },
  {
   "cell_type": "code",
   "execution_count": 35,
   "id": "84af91b9",
   "metadata": {},
   "outputs": [
    {
     "data": {
      "image/png": "[encoded data removed]",
      "text/plain": [
       "<Figure size 741.517x480 with 2 Axes>"
      ]
     },
     "metadata": {},
     "output_type": "display_data"
    }
   ],
   "source": [
    "HZ_flow = visualization(HZXD, HZ_max_X+1, HZ_max_Y+1)"
   ]
  },
  {
   "cell_type": "code",
   "execution_count": 36,
   "id": "2dd41fb8",
   "metadata": {},
   "outputs": [],
   "source": [
    "HZ_xmin = 140\n",
    "HZ_xmax = 310\n",
    "HZ_ymin = 0\n",
    "HZ_ymax = 240\n",
    "HZXD = HZXD[:,HZ_xmin:HZ_xmax,HZ_ymin:HZ_ymax,:]"
   ]
  },
  {
   "cell_type": "code",
   "execution_count": 41,
   "id": "b50095c5",
   "metadata": {},
   "outputs": [
    {
     "data": {
      "text/plain": [
       "330"
      ]
     },
     "execution_count": 41,
     "metadata": {},
     "output_type": "execute_result"
    }
   ],
   "source": [
    "HZ_sub_num = partition(HZXD, 3, \"HZ\")\n",
    "HZ_sub_num"
   ]
  },
  {
   "cell_type": "markdown",
   "id": "f6bb78a4",
   "metadata": {},
   "source": [
    "#### Chengdu Xiangdao"
   ]
  },
  {
   "cell_type": "code",
   "execution_count": 15,
   "id": "f90ead2e",
   "metadata": {},
   "outputs": [],
   "source": [
    "CD_df11 = dataprocess('data_chengdu_202111.csv', 11)\n",
    "CD_df12 = dataprocess('data_chengdu_202112.csv', 12)\n",
    "\n",
    "CD_df11gird, CD_df12gird = togird(CD_df11, CD_df12)\n",
    "CD_max_X = max(max(CD_df11gird['destination_X']),max(CD_df11gird['origin_X']),max(CD_df12gird['destination_X']),max(CD_df12gird['origin_X']))\n",
    "CD_max_Y = max(max(CD_df11gird['destination_Y']),max(CD_df11gird['origin_Y']),max(CD_df12gird['destination_Y']),max(CD_df12gird['origin_Y']))\n",
    "\n",
    "CD_tf11_in = gettf(CD_df11gird, 'in', CD_max_X+1)\n",
    "CD_tf11_out = gettf(CD_df11gird, 'out', CD_max_X+1)\n",
    "CD_tf12_in = gettf(CD_df12gird, 'in', CD_max_X+1)\n",
    "CD_tf12_out = gettf(CD_df12gird, 'out', CD_max_X+1)\n",
    "\n",
    "CDXD = generate_data(CD_tf11_in, CD_tf11_out, CD_tf12_in, CD_tf12_out, CD_max_X+1, CD_max_Y+1)"
   ]
  },
  {
   "cell_type": "code",
   "execution_count": 25,
   "id": "68905b50",
   "metadata": {},
   "outputs": [
    {
     "data": {
      "image/png": "[encoded data removed]",
      "text/plain": [
       "<Figure size 571.667x480 with 2 Axes>"
      ]
     },
     "metadata": {},
     "output_type": "display_data"
    }
   ],
   "source": [
    "CD_flow = visualization(CDXD, CD_max_X+1, CD_max_Y+1)"
   ]
  },
  {
   "cell_type": "code",
   "execution_count": 27,
   "id": "c97fce27",
   "metadata": {},
   "outputs": [],
   "source": [
    "CD_xmin = 130\n",
    "CD_xmax = 300\n",
    "CD_ymin = 0\n",
    "CD_ymax = 100\n",
    "CDXD = CDXD[:,CD_xmin:CD_xmax,CD_ymin:CD_ymax,:]"
   ]
  },
  {
   "cell_type": "code",
   "execution_count": 34,
   "id": "da26ba54",
   "metadata": {},
   "outputs": [
    {
     "data": {
      "text/plain": [
       "113"
      ]
     },
     "execution_count": 34,
     "metadata": {},
     "output_type": "execute_result"
    }
   ],
   "source": [
    "CD_sub_num = partition(CDXD, 2, \"CD\")\n",
    "CD_sub_num"
   ]
  },
  {
   "cell_type": "markdown",
   "id": "68d1dee1",
   "metadata": {},
   "source": [
    "#### Shanghai Xiangdao"
   ]
  },
  {
   "cell_type": "code",
   "execution_count": 37,
   "id": "80c8cea6",
   "metadata": {},
   "outputs": [],
   "source": [
    "SH_df11 = dataprocess('data_shanghai_202111.csv', 11)\n",
    "SH_df12 = dataprocess('data_shanghai_202112.csv', 12)\n",
    "\n",
    "SH_df11gird, SH_df12gird = togird(SH_df11, SH_df12)\n",
    "SH_max_X = max(max(SH_df11gird['destination_X']),max(SH_df11gird['origin_X']),max(SH_df12gird['destination_X']),max(SH_df12gird['origin_X']))\n",
    "SH_max_Y = max(max(SH_df11gird['destination_Y']),max(SH_df11gird['origin_Y']),max(SH_df12gird['destination_Y']),max(SH_df12gird['origin_Y']))\n",
    "\n",
    "SH_tf11_in = gettf(SH_df11gird, 'in', SH_max_X+1)\n",
    "SH_tf11_out = gettf(SH_df11gird, 'out', SH_max_X+1)\n",
    "SH_tf12_in = gettf(SH_df12gird, 'in', SH_max_X+1)\n",
    "SH_tf12_out = gettf(SH_df12gird, 'out', SH_max_X+1)\n",
    "\n",
    "SHXD = generate_data(SH_tf11_in, SH_tf11_out, SH_tf12_in, SH_tf12_out, SH_max_X+1, SH_max_Y+1)"
   ]
  },
  {
   "cell_type": "code",
   "execution_count": 38,
   "id": "a70b3d29",
   "metadata": {},
   "outputs": [
    {
     "data": {
      "image/png": "[encoded data removed]",
      "text/plain": [
       "<Figure size 418.118x480 with 2 Axes>"
      ]
     },
     "metadata": {},
     "output_type": "display_data"
    }
   ],
   "source": [
    "SH_flow = visualization(SHXD, SH_max_X+1, SH_max_Y+1)"
   ]
  },
  {
   "cell_type": "code",
   "execution_count": 39,
   "id": "63eb0f86",
   "metadata": {},
   "outputs": [],
   "source": [
    "SH_xmin = 100\n",
    "SH_y1 = 180\n",
    "SH_y2 = 50\n",
    "SHXD1 = SHXD[:,SH_xmin:,SH_y1:,:]\n",
    "SHXD2 = SHXD[:,SH_xmin:,:SH_y2,:]\n",
    "SHXD = np.concatenate((SHXD1, SHXD2), axis=2)"
   ]
  },
  {
   "cell_type": "code",
   "execution_count": 40,
   "id": "d310d2de",
   "metadata": {},
   "outputs": [
    {
     "data": {
      "text/plain": [
       "132"
      ]
     },
     "execution_count": 40,
     "metadata": {},
     "output_type": "execute_result"
    }
   ],
   "source": [
    "SH_sub_num = partition(SHXD, 3, \"SH\")\n",
    "SH_sub_num"
   ]
  },
  {
   "cell_type": "code",
   "execution_count": null,
   "id": "f7094048",
   "metadata": {},
   "outputs": [],
   "source": []
  }
 ],
 "metadata": {
  "kernelspec": {
   "display_name": "Python 3 (ipykernel)",
   "language": "python",
   "name": "python3"
  },
  "language_info": {
   "codemirror_mode": {
    "name": "ipython",
    "version": 3
   },
   "file_extension": ".py",
   "mimetype": "text/x-python",
   "name": "python",
   "nbconvert_exporter": "python",
   "pygments_lexer": "ipython3",
   "version": "3.10.9"
  }
 },
 "nbformat": 4,
 "nbformat_minor": 5
}
